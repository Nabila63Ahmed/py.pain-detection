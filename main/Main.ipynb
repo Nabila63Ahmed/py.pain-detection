{
 "cells": [
  {
   "cell_type": "code",
   "execution_count": null,
   "metadata": {
    "scrolled": false
   },
   "outputs": [],
   "source": [
    "import utils.data_prc as dp \n",
    "import utils.build_network as bn\n",
    "import utils.compilation_opt as cpo\n",
    "from keras.models import load_model\n",
    "%pylab inline"
   ]
  },
  {
   "cell_type": "code",
   "execution_count": null,
   "metadata": {
    "scrolled": true
   },
   "outputs": [],
   "source": [
    "Xtrain_pain, Xtest_pain, Xval_pain = dp.dataset_pickle_pain(\"pain_ds\")\n",
    "dp.dataset_pickle_emotions(\"fer2013\", Xtrain_pain, Xtest_pain, Xval_pain)\n",
    "dp.dataset_pickle_gsr('All_features')\n",
    "dp.dataset_pickle_gsr_crossVal('GSR_ds')"
   ]
  },
  {
   "cell_type": "code",
   "execution_count": null,
   "metadata": {
    "scrolled": true
   },
   "outputs": [],
   "source": [
    "X_train_E, y_train_E, X_test_E, y_test_E, X_val_E, y_val_E = dp.dataset_loading(\"fer2013\")\n",
    "X_train, y_train, X_test, y_test, X_val, y_val = dp.dataset_loading(\"pain_ds\")\n",
    "X_train_g, y_train_g, X_test_g, y_test_g, X_val_g, y_val_g = dp.dataset_loading('All_features_noCrossVal')\n",
    "X_train_gs, y_train_gs, X_test_gs, y_test_gs = dp.load_gsr_crossVal('GSR_ds')"
   ]
  },
  {
   "cell_type": "code",
   "execution_count": null,
   "metadata": {
    "scrolled": true
   },
   "outputs": [],
   "source": [
    "print(X_train.shape, y_train.shape, X_test.shape, y_test.shape, X_val.shape, y_val.shape)\n",
    "print(X_train_E.shape, y_train_E.shape, X_test_E.shape, y_test_E.shape, X_val_E.shape, y_val_E.shape)\n",
    "print X_train_g.shape, y_train_g.shape, X_test_g.shape, y_test_g.shape,  X_val_g.shape, y_val_g.shape\n",
    "print X_train_gs.shape, y_train_gs.shape, X_test_gs.shape, y_test_gs.shape"
   ]
  },
  {
   "cell_type": "code",
   "execution_count": null,
   "metadata": {
    "collapsed": true,
    "scrolled": true
   },
   "outputs": [],
   "source": [
    "emotion = { 0:'Angry', 1:'Disgust', 2: 'Fear', 3: 'Happy',\n",
    "           4: 'Sad', 5: 'Surprise', 6: 'Neutral', 7: 'Pain'}"
   ]
  },
  {
   "cell_type": "code",
   "execution_count": null,
   "metadata": {
    "scrolled": false
   },
   "outputs": [],
   "source": [
    "num_classes = len(emotion)\n",
    "samples_per_class = 7\n",
    "\n",
    "for y, cls in emotion.items():\n",
    "    idxs = np.flatnonzero(y_train_E == y)\n",
    "    idxs = np.random.choice(idxs, samples_per_class, replace=True)\n",
    "    for i, idx in enumerate(idxs):\n",
    "        plt_idx = i * num_classes + y + 1\n",
    "        plt.subplot(samples_per_class, num_classes, plt_idx)\n",
    "        plt.imshow(reshape(X_train_E[idx],(48,48)))\n",
    "        plt.axis('off')\n",
    "        if i == 0:\n",
    "            plt.title(cls)\n",
    "\n",
    "plt.show()\n"
   ]
  },
  {
   "cell_type": "code",
   "execution_count": null,
   "metadata": {
    "collapsed": true,
    "scrolled": false
   },
   "outputs": [],
   "source": [
    "NUM_CLASSES_EMOTION = 8\n",
    "NUM_CLASSES_PAIN = 13\n",
    "NUM_CLASSES_GSR = 5\n",
    "\n",
    "y_train_E, y_test_E, y_val_E= dp.y_to_categorical(y_train_E, y_test_E, NUM_CLASSES_EMOTION, y_val_E)\n",
    "y_train, y_test, y_val = dp.y_to_categorical(y_train, y_test, NUM_CLASSES_PAIN, y_val)\n",
    "y_train_g, y_test_g, y_val_g = dp.y_to_categorical(y_train_g, y_test_g, NUM_CLASSES_GSR, y_val_g)\n",
    "y_train_gs, y_test_gs = dp.y_to_categorical(y_train_gs, y_test_gs, NUM_CLASSES_GSR)"
   ]
  },
  {
   "cell_type": "code",
   "execution_count": null,
   "metadata": {},
   "outputs": [],
   "source": [
    "#opt = cpo.sgdOpt()\n",
    "#opt = cpo.rmsPropOpt()\n",
    "#opt = cpo.adagradOpt() \n",
    "opt = cpo.adamOpt() \n",
    "\n",
    "#model = bn.inception_v3()\n",
    "#model_1 = bn.build_pain_model(X_train)\n",
    "#model = bn.build_model(X_train_E)\n",
    "model_1 = bn.build_gsr_model()\n",
    "\n",
    "model_1.summary()\n",
    "model_1 = cpo.compiling(model_1, opt)\n",
    "\n",
    "#model = cpo.compiling(model, opt)\n"
   ]
  },
  {
   "cell_type": "code",
   "execution_count": null,
   "metadata": {
    "scrolled": false
   },
   "outputs": [],
   "source": [
    "#model = load_model('model_emo_InceptionV3_nogcloud_30ep.h5')\n",
    "#model_1 = load_model('model_pain_nogcloud_rmsprop_120ep.h5')\n",
    "epochs = 120\n",
    "batch_size = 32\n",
    "\n",
    "print (X_train_gs.shape, y_train_gs.shape)\n",
    "\n",
    "model_1 = cpo.training_cross_valid(model_1, batch_size, epochs, X_train_gs, y_train_gs)\n",
    "#print (X_train_E.shape, y_train_E.shape)\n",
    "#model, history = cpo.training(model, batch_size, epochs, X_train_E, y_train_E, X_val_E, y_val_E)\n",
    "#model_1, history = cpo.training(model_1, batch_size, epochs, X_train_g, y_train_g, X_val_g, y_val_g)\n"
   ]
  },
  {
   "cell_type": "code",
   "execution_count": null,
   "metadata": {
    "collapsed": true,
    "scrolled": true
   },
   "outputs": [],
   "source": [
    "#cpo.eval_plot(model, X_val_E, y_val_E, history, epochs)\n",
    "#cpo.eval_plot(model_1, X_val, y_val, history, epochs)\n",
    "#print(model.predict_classes(X_train, batch_size=128))\n",
    "#print(model.predict_classes(X_test, batch_size=128))"
   ]
  },
  {
   "cell_type": "code",
   "execution_count": null,
   "metadata": {
    "collapsed": true,
    "scrolled": true
   },
   "outputs": [],
   "source": [
    "model_1.save('model_finalSR_3densemodel_CrossVal.h5')  # creates a HDF5 file '.h5'\n",
    "#del model  # deletes the existing model\n"
   ]
  },
  {
   "cell_type": "code",
   "execution_count": null,
   "metadata": {},
   "outputs": [],
   "source": [
    "scores = model_1.evaluate(X_test_gs, y_test_gs, batch_size = 32,verbose=0)\n",
    "print scores"
   ]
  }
 ],
 "metadata": {
  "kernelspec": {
   "display_name": "Python 2",
   "language": "python",
   "name": "python2"
  },
  "language_info": {
   "codemirror_mode": {
    "name": "ipython",
    "version": 2
   },
   "file_extension": ".py",
   "mimetype": "text/x-python",
   "name": "python",
   "nbconvert_exporter": "python",
   "pygments_lexer": "ipython2",
   "version": "2.7.6"
  }
 },
 "nbformat": 4,
 "nbformat_minor": 2
}
