{
 "cells": [
  {
   "cell_type": "markdown",
   "metadata": {},
   "source": [
    "# Main class "
   ]
  },
  {
   "cell_type": "markdown",
   "metadata": {},
   "source": [
    "The Class uses all utilities and vaiables defined to load datasets, create models, train them on the datasets and evaluate the models and their results."
   ]
  },
  {
   "cell_type": "markdown",
   "metadata": {},
   "source": [
    "### Imports for defined utilities and variables configuration file:"
   ]
  },
  {
   "cell_type": "code",
   "execution_count": null,
   "metadata": {
    "scrolled": false
   },
   "outputs": [],
   "source": [
    "import utils.data_prc as dp \n",
    "import utils.build_network as bn\n",
    "import utils.compilation_opt as cpo\n",
    "import utils.config as conf\n",
    "from keras.models import load_model\n",
    "%pylab inline"
   ]
  },
  {
   "cell_type": "markdown",
   "metadata": {},
   "source": [
    "### - Pickling datasets: Emotion, Pain & GSR"
   ]
  },
  {
   "cell_type": "code",
   "execution_count": null,
   "metadata": {
    "scrolled": true
   },
   "outputs": [],
   "source": [
    "Xtrain_pain, Xtest_pain, Xval_pain = dp.dataset_pickle_pain(conf.DATASET_NAME_PAIN)\n",
    "dp.dataset_pickle_emotions(conf.DATASET_NAME_EMOTION, Xtrain_pain, Xtest_pain, Xval_pain)\n",
    "dp.dataset_pickle_sr(conf.DATASET_NAME_SR)\n",
    "dp.dataset_pickle_sr_crossVal(conf.DATASET_NAME_SR)"
   ]
  },
  {
   "cell_type": "markdown",
   "metadata": {},
   "source": [
    "### - Loading datasets: Emotion, Pain & GSR"
   ]
  },
  {
   "cell_type": "code",
   "execution_count": null,
   "metadata": {
    "collapsed": true,
    "scrolled": true
   },
   "outputs": [],
   "source": [
    "X_train_E, y_train_E, X_test_E, y_test_E, X_val_E, y_val_E = dp.dataset_loading(conf.DATASET_NAME_EMOTION)\n",
    "X_train, y_train, X_test, y_test, X_val, y_val = dp.dataset_loading(conf.DATASET_NAME_PAIN)\n",
    "X_train_g, y_train_g, X_test_g, y_test_g, X_val_g, y_val_g = dp.dataset_loading(conf.DATASET_NAME_SR+'_noCrossVal')\n",
    "X_train_gs, y_train_gs, X_test_gs, y_test_gs = dp.load_sr_crossVal(conf.DATASET_NAME_SR)"
   ]
  },
  {
   "cell_type": "markdown",
   "metadata": {},
   "source": [
    "### - Printing datasets' Shapes"
   ]
  },
  {
   "cell_type": "code",
   "execution_count": null,
   "metadata": {
    "scrolled": true
   },
   "outputs": [],
   "source": [
    "print X_train.shape, y_train.shape, X_test.shape, y_test.shape, X_val.shape, y_val.shape\n",
    "print X_train_E.shape, y_train_E.shape, X_test_E.shape, y_test_E.shape, X_val_E.shape, y_val_E.shape\n",
    "print X_train_g.shape, y_train_g.shape, X_test_g.shape, y_test_g.shape,  X_val_g.shape, y_val_g.shape\n",
    "print X_train_gs.shape, y_train_gs.shape, X_test_gs.shape, y_test_gs.shape"
   ]
  },
  {
   "cell_type": "markdown",
   "metadata": {},
   "source": [
    "### - Displaying a sample of the Emotion dataset"
   ]
  },
  {
   "cell_type": "markdown",
   "metadata": {},
   "source": [
    "The emotion dataset is not only consistent of the 7 basic emotions originally it had, but has pain emotion added while pickling datasets as well"
   ]
  },
  {
   "cell_type": "code",
   "execution_count": null,
   "metadata": {
    "scrolled": false
   },
   "outputs": [],
   "source": [
    "num_classes = len(conf.emotion)\n",
    "samples_per_class = 7\n",
    "\n",
    "for y, cls in conf.emotion.items():\n",
    "    idxs = np.flatnonzero(y_train_E == y)\n",
    "    idxs = np.random.choice(idxs, samples_per_class, replace=True)\n",
    "    for i, idx in enumerate(idxs):\n",
    "        plt_idx = i * num_classes + y + 1\n",
    "        plt.subplot(samples_per_class, num_classes, plt_idx)\n",
    "        plt.imshow(reshape(X_train_E[idx],(48,48)))\n",
    "        plt.axis('off')\n",
    "        if i == 0:\n",
    "            plt.title(cls)\n",
    "\n",
    "plt.show()\n"
   ]
  },
  {
   "cell_type": "markdown",
   "metadata": {},
   "source": [
    "### - Labels from values to the categorical form"
   ]
  },
  {
   "cell_type": "code",
   "execution_count": null,
   "metadata": {
    "scrolled": false
   },
   "outputs": [],
   "source": [
    "y_train_E, y_test_E, y_val_E= dp.y_to_categorical(y_train_E, y_test_E, conf.NUM_CLASSES_EMOTION, y_val_E)\n",
    "y_train, y_test, y_val = dp.y_to_categorical(y_train, y_test, conf.NUM_CLASSES_PAIN, y_val)\n",
    "y_train_g, y_test_g, y_val_g = dp.y_to_categorical(y_train_g, y_test_g, conf.NUM_CLASSES_SR, y_val_g)\n",
    "y_train_gs, y_test_gs = dp.y_to_categorical(y_train_gs, y_test_gs, conf.NUM_CLASSES_SR)"
   ]
  },
  {
   "cell_type": "markdown",
   "metadata": {},
   "source": [
    "### - Preparing model"
   ]
  },
  {
   "cell_type": "markdown",
   "metadata": {},
   "source": [
    "1. Creation of the Optimizer\n",
    "2. Build the Model\n",
    "3. Compilation of the model with the optimizer"
   ]
  },
  {
   "cell_type": "code",
   "execution_count": null,
   "metadata": {},
   "outputs": [],
   "source": [
    "#opt = cpo.sgdOpt()\n",
    "opt = cpo.rmsPropOpt()\n",
    "#opt = cpo.adagradOpt() \n",
    "#opt = cpo.adamOpt() \n",
    "\n",
    "#model = bn.inception_v3()\n",
    "model_1 = bn.build_pain_model(X_train)\n",
    "#model = bn.build_model(X_train_E)\n",
    "#model_1 = bn.build_gsr_model()\n",
    "\n",
    "model_1.summary()\n",
    "\n",
    "model_1 = cpo.compiling(model_1, opt)\n",
    "#model = cpo.compiling(model, opt)\n"
   ]
  },
  {
   "cell_type": "markdown",
   "metadata": {},
   "source": [
    "### Training:"
   ]
  },
  {
   "cell_type": "markdown",
   "metadata": {},
   "source": [
    "Loading a model if needed, Training the model with loaded dataset and ploting history of training graph "
   ]
  },
  {
   "cell_type": "code",
   "execution_count": null,
   "metadata": {
    "scrolled": false
   },
   "outputs": [],
   "source": [
    "#model = load_model('model_emo_InceptionV3_nogcloud_30ep.h5')\n",
    "#model_1 = load_model('model_pain_nogcloud_adam_120ep.h5')\n",
    "\n",
    "epochs = 120\n",
    "batch_size = 32\n",
    "\n",
    "print X_train.shape, y_train.shape\n",
    "\n",
    "#model_1 = cpo.training_cross_valid(model_1, batch_size, epochs, X_train_gs, y_train_gs)\n",
    "#print (X_train_E.shape, y_train_E.shape)\n",
    "#model, history = cpo.training(model, batch_size, epochs, X_train_E, y_train_E, X_val_E, y_val_E, \"../../../history_csv/adam_inceptionV3_emo\")\n",
    "model_1, history = cpo.training(model_1, batch_size, epochs, X_train, y_train, X_val, y_val, \"../../../history_csv/rms_plateau_240_pain.csv\")\n",
    "cpo.plot(model_1, history, epochs)"
   ]
  },
  {
   "cell_type": "markdown",
   "metadata": {},
   "source": [
    "### - Saving model"
   ]
  },
  {
   "cell_type": "code",
   "execution_count": null,
   "metadata": {
    "collapsed": true,
    "scrolled": true
   },
   "outputs": [],
   "source": [
    "model_1.save('model_pain_rmsprop_120ep_3rdtrial_plateau.h5')  # creates a HDF5 file '.h5'\n",
    "#del model  # deletes the existing model\n"
   ]
  },
  {
   "cell_type": "markdown",
   "metadata": {},
   "source": [
    "### - Evaluation scores test set"
   ]
  },
  {
   "cell_type": "code",
   "execution_count": null,
   "metadata": {},
   "outputs": [],
   "source": [
    "scores = model_1.evaluate(X_test, y_test, batch_size = 32,verbose=0)\n",
    "print scores"
   ]
  },
  {
   "cell_type": "markdown",
   "metadata": {},
   "source": [
    "### - Second model created, trained and history ploted with new optimizer"
   ]
  },
  {
   "cell_type": "code",
   "execution_count": null,
   "metadata": {
    "scrolled": false
   },
   "outputs": [],
   "source": [
    "opt1 = cpo.adamOpt() \n",
    "model_2 = bn.build_pain_model(X_train)\n",
    "model_2 = cpo.compiling(model_2, opt1)\n",
    "model_2, history2 = cpo.training(model_2, batch_size, epochs, X_train, y_train, X_val, y_val, \"../../../history_csv/adam_plateau_120_emo.csv\")\n",
    "cpo.plot(model_2, history2, epochs)"
   ]
  },
  {
   "cell_type": "code",
   "execution_count": null,
   "metadata": {},
   "outputs": [],
   "source": [
    "scores = model_2.evaluate(X_test, y_test, batch_size = 32,verbose=0)\n",
    "print scores"
   ]
  },
  {
   "cell_type": "markdown",
   "metadata": {},
   "source": [
    "### - Plotting 2 models' history simultaneously"
   ]
  },
  {
   "cell_type": "code",
   "execution_count": null,
   "metadata": {},
   "outputs": [],
   "source": [
    "epochs_array = np.arange(epochs)\n",
    "plt.figure(1)\n",
    "plt.title('Loss in %d epochs' %(epochs))\n",
    "plt.plot(epochs_array, np.asarray(history['loss']), 'b', label='RMSProp')\n",
    "plt.plot(epochs_array, np.asarray(history2['loss']), 'r', label='ADAM')\n",
    "plt.legend()\n",
    "    \n",
    "plt.figure(2)\n",
    "plt.title('Accuracy in %d epochs' %(epochs))\n",
    "plt.plot(epochs_array, np.asarray(history['acc']), 'b', label='RMSProp')\n",
    "plt.plot(epochs_array, np.asarray(history2['acc']), 'r', label='ADAM')\n",
    "plt.legend()    \n",
    "    \n",
    "plt.figure(3)\n",
    "plt.title('Val_Loss in %d epochs' %(epochs))\n",
    "plt.plot(epochs_array, np.asarray(history['val_loss']), 'b', label='RMSProp')\n",
    "plt.plot(epochs_array, np.asarray(history2['val_loss']), 'r', label='ADAM')\n",
    "plt.legend()\n",
    "\n",
    "plt.figure(4)\n",
    "plt.title('Val_Accuracy in %d epochs' %(epochs))\n",
    "plt.plot(epochs_array, np.asarray(history['val_acc']), 'b', label='RMSProp')\n",
    "plt.plot(epochs_array, np.asarray(history2['val_acc']), 'r', label='ADAM')\n",
    "plt.legend()\n"
   ]
  }
 ],
 "metadata": {
  "kernelspec": {
   "display_name": "Python 2",
   "language": "python",
   "name": "python2"
  },
  "language_info": {
   "codemirror_mode": {
    "name": "ipython",
    "version": 2
   },
   "file_extension": ".py",
   "mimetype": "text/x-python",
   "name": "python",
   "nbconvert_exporter": "python",
   "pygments_lexer": "ipython2",
   "version": "2.7.6"
  }
 },
 "nbformat": 4,
 "nbformat_minor": 2
}
