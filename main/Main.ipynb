{
 "cells": [
  {
   "cell_type": "markdown",
   "metadata": {},
   "source": [
    "# Imports"
   ]
  },
  {
   "cell_type": "code",
   "execution_count": null,
   "metadata": {
    "collapsed": false,
    "scrolled": true
   },
   "outputs": [],
   "source": [
    "import utils.data_prc as dp \n",
    "import utils.build_network as bn\n",
    "import utils.compilation_opt as cpo\n",
    "%pylab inline"
   ]
  },
  {
   "cell_type": "code",
   "execution_count": null,
   "metadata": {
    "collapsed": false
   },
   "outputs": [],
   "source": [
    "dp.dataset_pickle_emotions(\"fer2013.csv\", False)\n",
    "dp.dataset_pickle_pain(\"pain_ds\")"
   ]
  },
  {
   "cell_type": "code",
   "execution_count": null,
   "metadata": {
    "collapsed": false
   },
   "outputs": [],
   "source": [
    "X_train_E, y_train_E, X_test_E, y_test_E = dp.dataset_loading_emotion(\"fer2013\")\n",
    "X_train, y_train, X_test, y_test, X_val, y_val = dp.dataset_loading_pain(\"pain_ds\")"
   ]
  },
  {
   "cell_type": "code",
   "execution_count": null,
   "metadata": {
    "collapsed": false
   },
   "outputs": [],
   "source": [
    "print(X_train.shape, y_train.shape, X_test.shape, y_test.shape, X_val.shape, y_val.shape)\n",
    "print(X_train_E.shape, y_train_E.shape, X_test_E.shape, y_test_E.shape)"
   ]
  },
  {
   "cell_type": "code",
   "execution_count": null,
   "metadata": {
    "collapsed": true
   },
   "outputs": [],
   "source": [
    "emotion = { 0:'Angry', 1:'Disgust', 2: 'Fear', 3: 'Happy',\n",
    "           4: 'Sad', 5: 'Surprise', 6: 'Neutral'}"
   ]
  },
  {
   "cell_type": "code",
   "execution_count": null,
   "metadata": {
    "collapsed": false
   },
   "outputs": [],
   "source": [
    "num_classes = len(emotion)\n",
    "samples_per_class = 7\n",
    "\n",
    "for y, cls in emotion.items():\n",
    "    idxs = np.flatnonzero(y_train_E == y)\n",
    "    idxs = np.random.choice(idxs, samples_per_class, replace=True)\n",
    "    for i, idx in enumerate(idxs):\n",
    "        plt_idx = i * num_classes + y + 1\n",
    "        plt.subplot(samples_per_class, num_classes, plt_idx)\n",
    "        plt.imshow(reshape(X_train_E[idx], (48, 48)).astype('uint8'))\n",
    "        plt.axis('off')\n",
    "        if i == 0:\n",
    "            plt.title(cls)\n",
    "\n",
    "plt.show()\n"
   ]
  },
  {
   "cell_type": "code",
   "execution_count": null,
   "metadata": {
    "collapsed": false,
    "scrolled": true
   },
   "outputs": [],
   "source": [
    "NUM_CLASSES_EMOTION = 7\n",
    "NUM_CLASSES_PAIN = 16\n",
    "\n",
    "#bn.print_metadata(X_train, X_test)\n",
    "y_train_E, y_test_E = dp.y_to_categorical(y_train_E, y_test_E, NUM_CLASSES_EMOTION)\n",
    "y_train, y_test, y_val = dp.y_to_categorical(y_train, y_test, NUM_CLASSES_PAIN, y_val)"
   ]
  },
  {
   "cell_type": "code",
   "execution_count": null,
   "metadata": {
    "collapsed": false
   },
   "outputs": [],
   "source": [
    "#opt = cpo.sgdOpt()\n",
    "#opt = cpo.rmsPropOpt()\n",
    "#opt = cpo.adagradOpt() \n",
    "opt = cpo.adamOpt() \n",
    "\n",
    "#X_train_E, X_test_E = dp.prepare_emotions_examples(X_train_E, X_test_E)\n",
    "\n",
    "model = bn.build_model(X_train)\n",
    "\n",
    "model = cpo.compiling(model, opt)\n",
    "model.summary()"
   ]
  },
  {
   "cell_type": "code",
   "execution_count": null,
   "metadata": {
    "collapsed": false,
    "scrolled": false
   },
   "outputs": [],
   "source": [
    "epochs = 5\n",
    "batch_size = 128\n",
    "\n",
    "#print (X_train.shape, y_train.shape)\n",
    "#model, history = cpo.training(model, batch_size, epochs, X_train_E, y_train_E)\n",
    "model, history = cpo.training_painds(model, batch_size, epochs, X_train, y_train, X_val, y_val)"
   ]
  },
  {
   "cell_type": "code",
   "execution_count": null,
   "metadata": {
    "collapsed": false
   },
   "outputs": [],
   "source": [
    "cpo.eval_plot(model, X_train, y_train, history, epochs)"
   ]
  },
  {
   "cell_type": "code",
   "execution_count": null,
   "metadata": {
    "collapsed": false
   },
   "outputs": [],
   "source": [
    "#cpo.eval_plot(model, X_test, y_test, history, epochs)"
   ]
  },
  {
   "cell_type": "code",
   "execution_count": null,
   "metadata": {
    "collapsed": false
   },
   "outputs": [],
   "source": [
    "#print(model.predict_classes(X_train, batch_size=128))"
   ]
  },
  {
   "cell_type": "code",
   "execution_count": null,
   "metadata": {
    "collapsed": false
   },
   "outputs": [],
   "source": [
    "#print(model.predict_classes(X_test, batch_size=128))"
   ]
  },
  {
   "cell_type": "code",
   "execution_count": null,
   "metadata": {
    "collapsed": true
   },
   "outputs": [],
   "source": [
    "from keras.models import load_model\n",
    "\n",
    "model.save('my_model_no_reg_pain.h5')  # creates a HDF5 file '.h5'\n",
    "#del model  # deletes the existing model\n",
    "\n",
    "# returns a compiled model\n",
    "# identical to the previous one\n",
    "#model = load_model('my_model.h5')"
   ]
  }
 ],
 "metadata": {
  "kernelspec": {
   "display_name": "Python 3",
   "language": "python",
   "name": "python3"
  },
  "language_info": {
   "codemirror_mode": {
    "name": "ipython",
    "version": 3
   },
   "file_extension": ".py",
   "mimetype": "text/x-python",
   "name": "python",
   "nbconvert_exporter": "python",
   "pygments_lexer": "ipython3",
   "version": "3.6.0"
  }
 },
 "nbformat": 4,
 "nbformat_minor": 2
}
