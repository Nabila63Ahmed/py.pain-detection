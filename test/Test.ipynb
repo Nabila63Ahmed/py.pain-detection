{
 "cells": [
  {
   "cell_type": "code",
   "execution_count": null,
   "metadata": {
    "scrolled": false
   },
   "outputs": [],
   "source": [
    "import os\n",
    "os.chdir('..')\n",
    "print os.getcwd()"
   ]
  },
  {
   "cell_type": "code",
   "execution_count": null,
   "metadata": {
    "scrolled": false
   },
   "outputs": [],
   "source": [
    "from keras.models import load_model\n",
    "from keras.preprocessing import image as image_utils\n",
    "import numpy as np\n",
    "import matplotlib.pyplot as plt\n",
    "import main.utils.config as conf"
   ]
  },
  {
   "cell_type": "code",
   "execution_count": null,
   "metadata": {
    "collapsed": true,
    "scrolled": false
   },
   "outputs": [],
   "source": [
    "os.chdir('test/')"
   ]
  },
  {
   "cell_type": "code",
   "execution_count": null,
   "metadata": {
    "collapsed": true,
    "scrolled": false
   },
   "outputs": [],
   "source": [
    "# loading the models for testing\n",
    "path = '../main/'\n",
    "test_imgs_path = 'samples/'\n",
    "test_pain_imgs_path = 'pain_samples/'\n",
    "emotions_model = load_model(path+'model_emo_InceptionV3_nogcloud_44ep.h5')\n",
    "pain_model_adam = load_model(path+'model_pain_nogcloud_adam_120ep.h5')\n",
    "pain_model_rmsprop = load_model(path+'model_pain_nogcloud_rmsprop_240ep.h5')\n",
    "pain_model_datagen = load_model(path+'model_pain_nogcloud_datagen_240ep.h5')\n",
    "sr_model = load_model(path+'model_finalSR_3densemodel_CrossVal.h5')"
   ]
  },
  {
   "cell_type": "code",
   "execution_count": null,
   "metadata": {
    "scrolled": false
   },
   "outputs": [],
   "source": [
    "## PNG/JPG parse and pain detection and measurement\n",
    "\n",
    "for f in os.listdir(test_imgs_path):\n",
    "    fileName = os.path.join(test_imgs_path, f)\n",
    "    \n",
    "    # img to matrix\n",
    "    image = image_utils.load_img(fileName, target_size=(conf.PIC_DIM_PAIN, conf.PIC_DIM_PAIN))\n",
    "    image = image_utils.img_to_array(image).astype(np.float32)\n",
    "    image = image/ 255.\n",
    "    print \"colored image \", fileName, \" :\"\n",
    "    plt.imshow(image)\n",
    "    plt.show()\n",
    "    \n",
    "    # img to gray scale matrix\n",
    "    gray_image = image_utils.load_img(fileName, target_size=(conf.PICTURE_DIM_EMOTION, conf.PICTURE_DIM_EMOTION))\n",
    "    gray_image = image_utils.img_to_array(gray_image).astype(np.float32)\n",
    "    gray_image = gray_image/ 255.\n",
    "    gray_image = np.dot(gray_image[..., :3], [0.299, 0.587, 0.114])\n",
    "    print \"gray image \", fileName, \" :\"\n",
    "    plt.imshow(gray_image)\n",
    "    plt.show()\n",
    "    gray_image = np.reshape(gray_image, (conf.PICTURE_DIM_EMOTION, conf.PICTURE_DIM_EMOTION, 1))\n",
    "\n",
    "    # emotion prediction\n",
    "    emotion_prediction = emotions_model.predict(np.array([gray_image]), batch_size = 1)[0]\n",
    "    \n",
    "    print \n",
    "    print emotion_prediction\n",
    "    print\n",
    "    print \"predicted emotion:\", conf.emotion.items()[np.argmax(emotion_prediction)][1], \"with prob:\", np.max(emotion_prediction)\n",
    "    \n",
    "    # If pain emotion predicted, predict its level\n",
    "    if np.argmax(emotion_prediction) == 7 :\n",
    "        \n",
    "        painLevel_prediction = pain_model_adam.predict(np.array([image]), batch_size = 1)[0]\n",
    "        \n",
    "        print \"predicted pain level:\", np.argmax(painLevel_prediction)"
   ]
  },
  {
   "cell_type": "code",
   "execution_count": null,
   "metadata": {
    "scrolled": false
   },
   "outputs": [],
   "source": [
    "for f in os.listdir(test_pain_imgs_path):\n",
    "    fileName = os.path.join(test_pain_imgs_path, f)\n",
    "    \n",
    "    # img to matrix\n",
    "    image = image_utils.load_img(fileName, target_size=(conf.PIC_DIM_PAIN, conf.PIC_DIM_PAIN))\n",
    "    image = image_utils.img_to_array(image).astype(np.float32)\n",
    "    image = image/ 255.\n",
    "    print \"colored image \", fileName, \" :\"\n",
    "    plt.imshow(image)\n",
    "    plt.show()\n",
    "    \n",
    "    painLevel_prediction = pain_model_rmsprop.predict(np.array([image]), batch_size = 1)[0]\n",
    "    \n",
    "    print \n",
    "    print painLevel_prediction\n",
    "    print\n",
    "    print \"predicted pain level:\", np.argmax(painLevel_prediction), \"with prob:\", np.max(painLevel_prediction)\n",
    "    "
   ]
  }
 ],
 "metadata": {
  "kernelspec": {
   "display_name": "Python 3",
   "language": "python",
   "name": "python3"
  },
  "language_info": {
   "codemirror_mode": {
    "name": "ipython",
    "version": 2
   },
   "file_extension": ".py",
   "mimetype": "text/x-python",
   "name": "python",
   "nbconvert_exporter": "python",
   "pygments_lexer": "ipython2",
   "version": "2.7.6"
  }
 },
 "nbformat": 4,
 "nbformat_minor": 2
}
