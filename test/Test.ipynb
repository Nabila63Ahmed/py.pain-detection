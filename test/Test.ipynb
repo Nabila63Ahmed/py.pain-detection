{
 "cells": [
  {
   "cell_type": "markdown",
   "metadata": {},
   "source": [
    "# Test file for existing models"
   ]
  },
  {
   "cell_type": "markdown",
   "metadata": {},
   "source": [
    "After Loading Emotion, Pain, SR Models. Testing on given samples occurs to prove the degree of accuracy of the models on external pictures that weren't used in training, validation or Main.ipynb testing"
   ]
  },
  {
   "cell_type": "markdown",
   "metadata": {},
   "source": [
    "### Change in Directory"
   ]
  },
  {
   "cell_type": "markdown",
   "metadata": {},
   "source": [
    "Changing to parent directory, just for the sake of easening the far away and nested directories file imports"
   ]
  },
  {
   "cell_type": "code",
   "execution_count": null,
   "metadata": {},
   "outputs": [],
   "source": [
    "import os\n",
    "os.chdir('..')\n",
    "print os.getcwd() # Home directory of the whole project --> py.pain-detection/"
   ]
  },
  {
   "cell_type": "markdown",
   "metadata": {},
   "source": [
    "### Imports "
   ]
  },
  {
   "cell_type": "markdown",
   "metadata": {},
   "source": [
    "For libraries used and Configuration file for variables"
   ]
  },
  {
   "cell_type": "code",
   "execution_count": null,
   "metadata": {
    "scrolled": false
   },
   "outputs": [],
   "source": [
    "from keras.models import load_model\n",
    "from keras.preprocessing import image as image_utils\n",
    "import numpy as np\n",
    "import matplotlib.pyplot as plt\n",
    "import main.utils.config as conf"
   ]
  },
  {
   "cell_type": "markdown",
   "metadata": {},
   "source": [
    "#### Redirected to original directory for consistency"
   ]
  },
  {
   "cell_type": "code",
   "execution_count": null,
   "metadata": {
    "collapsed": true,
    "scrolled": false
   },
   "outputs": [],
   "source": [
    "os.chdir('test/')"
   ]
  },
  {
   "cell_type": "markdown",
   "metadata": {},
   "source": [
    "### Loading the models for testing"
   ]
  },
  {
   "cell_type": "code",
   "execution_count": null,
   "metadata": {
    "collapsed": true,
    "scrolled": false
   },
   "outputs": [],
   "source": [
    "path = '../main/'\n",
    "test_imgs_path = 'samples/'\n",
    "test_pain_imgs_path = 'pain_samples/'\n",
    "emotions_model = load_model(path+'model_emo_adam_50ep_Inception_plateau.h5')\n",
    "pain_model_adam = load_model(path+'model_pain_adam_240ep_2ndtrial_plateau.h5')\n",
    "pain_model_rmsprop = load_model(path+'model_pain_rmsprop_240ep_3rdtrial_plateau.h5')\n",
    "pain_model_datagen = load_model(path+'model_pain_nogcloud_datagen_240ep.h5')\n",
    "sr_model = load_model(path+'model_finalSR_3densemodel_CrossVal.h5')"
   ]
  },
  {
   "cell_type": "markdown",
   "metadata": {},
   "source": [
    "## PNG/JPG/JPEG parse and Emotion detection and Pain measurement"
   ]
  },
  {
   "cell_type": "markdown",
   "metadata": {},
   "source": [
    "#### - Function for loading images to required shape matrices"
   ]
  },
  {
   "cell_type": "code",
   "execution_count": null,
   "metadata": {
    "collapsed": true
   },
   "outputs": [],
   "source": [
    "def imgToColoredMatrix(fileName):\n",
    "    image = image_utils.load_img(fileName, target_size=(conf.PIC_DIM_PAIN, conf.PIC_DIM_PAIN))\n",
    "    image = image_utils.img_to_array(image).astype(np.float32)\n",
    "    image = image/ 255.\n",
    "    \n",
    "    print\n",
    "    print \"colored image \", fileName, \" :\"\n",
    "    \n",
    "    plt.imshow(image)\n",
    "    plt.show()\n",
    "    \n",
    "    return image"
   ]
  },
  {
   "cell_type": "markdown",
   "metadata": {},
   "source": [
    "#### - Emotion Prediction showing scores for each emotion and predicting pain level if pain was detected"
   ]
  },
  {
   "cell_type": "code",
   "execution_count": null,
   "metadata": {
    "scrolled": false
   },
   "outputs": [],
   "source": [
    "for f in os.listdir(test_imgs_path):\n",
    "    fileName = os.path.join(test_imgs_path, f)\n",
    "    \n",
    "    image = imgToColoredMatrix(fileName)\n",
    "    \n",
    "    # img to gray scale matrix\n",
    "    gray_image = image_utils.load_img(fileName, target_size=(conf.PICTURE_DIM_EMOTION, conf.PICTURE_DIM_EMOTION))\n",
    "    gray_image = image_utils.img_to_array(gray_image).astype(np.float32)\n",
    "    gray_image = gray_image/ 255.\n",
    "    gray_image = np.dot(gray_image[..., :3], [0.299, 0.587, 0.114])\n",
    "    print \"gray image \", fileName, \" :\"\n",
    "    plt.imshow(gray_image)\n",
    "    plt.show()\n",
    "    gray_image = np.reshape(gray_image, (conf.PICTURE_DIM_EMOTION, conf.PICTURE_DIM_EMOTION, 1))\n",
    "\n",
    "    # emotion prediction\n",
    "    emotion_prediction = emotions_model.predict(np.array([gray_image]), batch_size = 1)[0]\n",
    "    \n",
    "    print \n",
    "    print emotion_prediction\n",
    "    print\n",
    "    print \"predicted emotion:\", conf.emotion.items()[np.argmax(emotion_prediction)][1], \"with prob:\", np.max(emotion_prediction)\n",
    "    print\n",
    "    \n",
    "    # If pain emotion predicted, predict its level\n",
    "    if np.argmax(emotion_prediction) == 7 :\n",
    "        \n",
    "        painLevel_prediction = pain_model_adam.predict(np.array([image]), batch_size = 1)[0]\n",
    "        \n",
    "        print \"predicted pain level:\", np.argmax(painLevel_prediction)"
   ]
  },
  {
   "cell_type": "markdown",
   "metadata": {},
   "source": [
    "#### - Prediction of Pain level"
   ]
  },
  {
   "cell_type": "code",
   "execution_count": null,
   "metadata": {
    "scrolled": false
   },
   "outputs": [],
   "source": [
    "for f in os.listdir(test_pain_imgs_path):\n",
    "    fileName = os.path.join(test_pain_imgs_path, f)\n",
    "    image = imgToColoredMatrix(fileName)\n",
    "    painLevel_prediction = pain_model_adam.predict(np.array([image]), batch_size = 1)[0]\n",
    "    \n",
    "    print \n",
    "    print painLevel_prediction\n",
    "    print\n",
    "    print \"predicted pain level:\", np.argmax(painLevel_prediction), \"with prob:\", np.max(painLevel_prediction)\n",
    "    "
   ]
  }
 ],
 "metadata": {
  "kernelspec": {
   "display_name": "Python 3",
   "language": "python",
   "name": "python3"
  },
  "language_info": {
   "codemirror_mode": {
    "name": "ipython",
    "version": 2
   },
   "file_extension": ".py",
   "mimetype": "text/x-python",
   "name": "python",
   "nbconvert_exporter": "python",
   "pygments_lexer": "ipython2",
   "version": "2.7.6"
  }
 },
 "nbformat": 4,
 "nbformat_minor": 2
}
